{
 "cells": [
  {
   "cell_type": "markdown",
   "metadata": {},
   "source": [
    "# Conditional Probability - Lab\n",
    "\n",
    "## Introduction\n",
    "\n",
    "In order to be ready for real-world applications of probability, it is important to understand what happens when probabilities are not independent. Very often, the probability of a certain event depends on other events happening! Let's see how this all works in this lab.\n",
    "\n",
    "## Objectives\n",
    "\n",
    "You will be able to:\n",
    "\n",
    "* Differentiate between independent and dependent events\n",
    "* Use the multiplication rule to find the probability of the intersection of two events"
   ]
  },
  {
   "cell_type": "markdown",
   "metadata": {},
   "source": [
    "To provide a little bit of help, you can find a table with common operations on sets below.\n",
    "\n",
    "| Method        |\tEquivalent |\tResult |\n",
    "| ------                    | ------       | ------    |\n",
    "| s.issubset(t)             |\ts <= t     | test whether every element in s is in t\n",
    "| s.issuperset(t)           |\ts >= t     | test whether every element in t is in s\n",
    "| s.union(t)                |\ts $\\mid$ t | new set with elements from both s and t\n",
    "| s.intersection(t)         |\ts & t      | new set with elements common to s and t\n",
    "| s.difference(t)           |\ts - t \t   | new set with elements in s but not in t\n",
    "| s.symmetric_difference(t) |\ts ^ t      | new set with elements in either s or t but not both\n",
    "\n",
    "|Operation                          |\tEquivalent |\tResult|\n",
    "| ------                            | ------       | ------   |\n",
    "|s.update(t)                        | \t$s \\mid t$ \t   |return set s with elements added from t|\n",
    "|s.intersection_update(t)           | \ts &= t     |\treturn set s keeping only elements also found in t|\n",
    "|s.difference_update(t)             |\ts -= t \t   |return set s after removing elements found in t|\n",
    "|s.symmetric_difference_update(t)   |\ts ^= t \t   |return set s with elements from s or t but not both|\n",
    "|s.add(x)                           |\t           |\tadd element x to set s|\n",
    "|s.remove(x)                        |\t           |\tremove x from set s|\n",
    "|s.discard(x)                       |\t           |\tremoves x from set s if present|\n",
    "|s.pop()                            | \t           |\tremove and return an arbitrary element from s|\n",
    "|s.clear()            \t            |  \t           |remove all elements from set s|"
   ]
  },
  {
   "cell_type": "markdown",
   "metadata": {},
   "source": [
    "how to write out some of the set notation:\n",
    "- intersect --> $ A \\cap B$\n",
    "- union --> $ A \\cup C $\n",
    "- complement -->  $A^c$\n",
    "- also complement --> $B \\cap C' $\n",
    "- anti complement --> $A\\backslash B$"
   ]
  },
  {
   "cell_type": "code",
   "execution_count": 1,
   "metadata": {},
   "outputs": [],
   "source": [
    "# function for calculating a factorial \n",
    "def factorial(n):\n",
    "    prod = 1\n",
    "    while n >= 1:\n",
    "        prod = prod * n\n",
    "        n = n - 1\n",
    "    return prod"
   ]
  },
  {
   "cell_type": "code",
   "execution_count": 2,
   "metadata": {},
   "outputs": [],
   "source": [
    "# function for calculation a permutation (order matters) with replacement\n",
    "def permutation_r(n,k):\n",
    "    permut = n**k\n",
    "    return permut"
   ]
  },
  {
   "cell_type": "code",
   "execution_count": 3,
   "metadata": {},
   "outputs": [],
   "source": [
    "# function for calculating a permutation with no replacement\n",
    "def permutation_nr(n,k):\n",
    "    permut = factorial(n)/factorial(n-k)\n",
    "    return permut"
   ]
  },
  {
   "cell_type": "code",
   "execution_count": 4,
   "metadata": {},
   "outputs": [],
   "source": [
    "# function for calculating a combination (order doesn't matter) with replacement\n",
    "def combination_r(n,k):\n",
    "    combin = factorial(n) / (factorial(k) * factorial(n-k))\n",
    "    return combin"
   ]
  },
  {
   "cell_type": "code",
   "execution_count": 6,
   "metadata": {},
   "outputs": [],
   "source": [
    "# function for calculating a combination with no replacement\n",
    "def combination_nr(n,k):\n",
    "    combin = factorial(n+k-1) / (factorial(k) * factorial(n-1))\n",
    "    return combin"
   ]
  },
  {
   "cell_type": "markdown",
   "metadata": {},
   "source": [
    "## Exercise 1\n",
    "A coin is tossed and a single 6-sided dice is rolled. Find the probability of landing on the head side of the coin and rolling a 3 on the dice."
   ]
  },
  {
   "cell_type": "markdown",
   "metadata": {},
   "source": [
    "$ A \\cap B$\n",
    "\n",
    "where A is the coin\n",
    "\n",
    "and B is the dice"
   ]
  },
  {
   "cell_type": "code",
   "execution_count": 11,
   "metadata": {},
   "outputs": [
    {
     "data": {
      "text/plain": [
       "0.08333333333333333"
      ]
     },
     "execution_count": 11,
     "metadata": {},
     "output_type": "execute_result"
    }
   ],
   "source": [
    "A = {0, 1} # where 0 is heads and 1 is tails\n",
    "B = {1, 2, 3, 4, 5, 6}\n",
    "coin = permutation_nr(2,1)\n",
    "dice = permutation_nr(6,1)\n",
    "sample_space = permutation_r(2,1) * permutation_r(6,1)\n",
    "# event_space = permutation_nr(1,1) this line of code is wrong\n",
    "prob = event_space / sample_space\n",
    "prob"
   ]
  },
  {
   "cell_type": "markdown",
   "metadata": {},
   "source": [
    "## Exercise 2\n",
    "\n",
    "\n",
    "After conducting a survey, one of the outcomes was that 8 out of 10 of the survey subjects liked chocolate chip cookies. If three survey subjects are chosen at random **with replacement**, what is the probability that all three like chocolate chip cookies?"
   ]
  },
  {
   "cell_type": "code",
   "execution_count": 29,
   "metadata": {},
   "outputs": [
    {
     "name": "stdout",
     "output_type": "stream",
     "text": [
      "56.0\n",
      "100\n"
     ]
    },
    {
     "data": {
      "text/plain": [
       "0.56"
      ]
     },
     "execution_count": 29,
     "metadata": {},
     "output_type": "execute_result"
    }
   ],
   "source": [
    "event_space = combination_r(8,3) \n",
    "print(event_space)\n",
    "sample_space = permutation_r(10,2)\n",
    "print(sample_space)\n",
    "prob = event_space / sample_space\n",
    "prob"
   ]
  },
  {
   "cell_type": "markdown",
   "metadata": {},
   "source": [
    "## Exercise 3\n",
    "70% of your friends like chocolate flavored ice cream, and 35% like chocolate AND like strawberry flavors.\n",
    "\n",
    "What percent of those who like chocolate also like strawberry?"
   ]
  },
  {
   "cell_type": "markdown",
   "metadata": {},
   "source": [
    "$P(strawberry \\mid chocolate)$ = $ P(strawberry \\cap chocolate)$ $/$ $P(chocolate)$"
   ]
  },
  {
   "cell_type": "code",
   "execution_count": 31,
   "metadata": {},
   "outputs": [
    {
     "data": {
      "text/plain": [
       "0.5"
      ]
     },
     "execution_count": 31,
     "metadata": {},
     "output_type": "execute_result"
    }
   ],
   "source": [
    "s_intersect_c = 0.35\n",
    "c = 0.70\n",
    "s_given_c = s_intersect_c / c\n",
    "s_given_c"
   ]
  },
  {
   "cell_type": "markdown",
   "metadata": {},
   "source": [
    "50% of your friends who like chocolate also like strawberry\n",
    "\n",
    "## Exercise 4\n",
    "What is the probability of drawing 2 consecutive aces from a deck of cards. "
   ]
  },
  {
   "cell_type": "code",
   "execution_count": 35,
   "metadata": {},
   "outputs": [
    {
     "data": {
      "text/plain": [
       "0.058823529411764705"
      ]
     },
     "execution_count": 35,
     "metadata": {},
     "output_type": "execute_result"
    }
   ],
   "source": [
    "event_space = combination_r(13,1) * permutation_nr(4,2)\n",
    "sample_space = permutation_nr(52,2)\n",
    "prob = event_space / sample_space\n",
    "prob"
   ]
  },
  {
   "cell_type": "markdown",
   "metadata": {},
   "source": [
    "## Exercise 5\n",
    "In a manufacturing factory that produces a certain product, there are 100 units of the product, 5 of which are defective. We pick three units from the 100 units at random. \n",
    "\n",
    "What is the probability that none of them are defective?\n",
    "Hint: Use the chain rule here!"
   ]
  },
  {
   "cell_type": "markdown",
   "metadata": {},
   "source": []
  },
  {
   "cell_type": "code",
   "execution_count": null,
   "metadata": {},
   "outputs": [],
   "source": [
    "# Your code here\n"
   ]
  },
  {
   "cell_type": "markdown",
   "metadata": {},
   "source": [
    "## Exercise 6\n",
    "\n",
    "Let's consider the example where 2 dice are thrown. Given that **at least one** of the dice has come up on a number higher than 4, what is the probability that the sum is 8?\n",
    "\n",
    "Let $i,j$ be the numbers shown on the dice. The events $A$ and $B$ are described below:\n",
    "\n",
    "* **Event $A$ is when either $i$ or $j$ is 5 or 6** (keep an eye on either - or)\n",
    "* **Event $B$ is when $i + j = 8$**\n",
    "\n",
    "\n",
    "* What is the size of sample space $\\Omega$ ?\n",
    "* What is $P(A \\cap B)$ ?\n",
    "* What is $P(A)$ ?\n",
    "* Use above to calculate $P(B \\mid A)$"
   ]
  },
  {
   "cell_type": "code",
   "execution_count": null,
   "metadata": {},
   "outputs": [],
   "source": [
    "# Your code here"
   ]
  },
  {
   "cell_type": "markdown",
   "metadata": {},
   "source": [
    "## Exercise 7\n",
    "\n",
    "Let's consider a credit card example. At a supermarket, customers are selected randomly, the store owner recorded whether costumers owned a Visa card (event A) or an Amex credit card (event B). Some customers own both cards.\n",
    "You can assume that:\n",
    "\n",
    "- $P(A)$ = 0.5\n",
    "- $P(B)$ = 0.4\n",
    "- both $A$ and $B$ = 0.25.\n",
    "\n",
    "\n",
    "With the knowledge we have about conditional probabilities, compute and interpret the following probabilities:\n",
    "\n",
    "- $P(B \\mid A)$\n",
    "- $P(B' \\mid A)$\n",
    "- $P(A \\mid B)$\n",
    "- $P(A' \\mid B)$\n"
   ]
  },
  {
   "cell_type": "code",
   "execution_count": null,
   "metadata": {},
   "outputs": [],
   "source": [
    "# Your code here"
   ]
  },
  {
   "cell_type": "markdown",
   "metadata": {},
   "source": [
    "## Summary \n",
    "\n",
    "In this lab, you practiced conditional probability and its theorem with some simple problems. The key takeaway from this lab is to be able to identify random events as dependent or independent and calculating the probability of their occurrence using appropriate methods. Next, you'll learn about some more conditional probability axioms, building on the knowledge we have so far. "
   ]
  }
 ],
 "metadata": {
  "kernelspec": {
   "display_name": "Python 3",
   "language": "python",
   "name": "python3"
  },
  "language_info": {
   "codemirror_mode": {
    "name": "ipython",
    "version": 3
   },
   "file_extension": ".py",
   "mimetype": "text/x-python",
   "name": "python",
   "nbconvert_exporter": "python",
   "pygments_lexer": "ipython3",
   "version": "3.7.4"
  },
  "toc": {
   "base_numbering": 1,
   "nav_menu": {},
   "number_sections": true,
   "sideBar": true,
   "skip_h1_title": false,
   "title_cell": "Table of Contents",
   "title_sidebar": "Contents",
   "toc_cell": false,
   "toc_position": {},
   "toc_section_display": true,
   "toc_window_display": false
  }
 },
 "nbformat": 4,
 "nbformat_minor": 2
}
